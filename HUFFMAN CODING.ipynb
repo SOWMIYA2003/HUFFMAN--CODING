{
 "cells": [
  {
   "cell_type": "code",
   "execution_count": 4,
   "id": "9471883d",
   "metadata": {},
   "outputs": [],
   "source": [
    "# Get the input String\n",
    "string = \"Sowmiya AI DS Department\""
   ]
  },
  {
   "cell_type": "code",
   "execution_count": 5,
   "id": "915ab35f",
   "metadata": {},
   "outputs": [],
   "source": [
    "# Create tree nodes\n",
    "\n",
    "class NodeTree(object):\n",
    "    def __init__(self, left=None, right=None): \n",
    "        self.left = left\n",
    "        self.right=right\n",
    "    def children(self):\n",
    "        return (self.left,self.right)\n",
    "    \n",
    "    \n",
    "    \n",
    "    \n",
    "    "
   ]
  },
  {
   "cell_type": "code",
   "execution_count": 6,
   "id": "1c04c857",
   "metadata": {},
   "outputs": [],
   "source": [
    "# Main function to implement huffman coding\n",
    "\n",
    "def huffman_code_tree (node, left=True, binString=''):\n",
    "    if type(node) is str:\n",
    "        return {node: binString}\n",
    "    (l, r) = node.children()\n",
    "    d = dict()\n",
    "    d.update(huffman_code_tree (l, True, binString + '0'))\n",
    "    d.update(huffman_code_tree (r, False, binString + '1'))\n",
    "    return d\n",
    "    \n",
    "    "
   ]
  },
  {
   "cell_type": "code",
   "execution_count": 8,
   "id": "a74eefa0",
   "metadata": {},
   "outputs": [],
   "source": [
    "# Calculate frequency of occurrence\n",
    "freq = {}\n",
    "for c in string:\n",
    "    if c in freq:\n",
    "        freq[c] += 1\n",
    "    else:\n",
    "        freq[c] = 1\n",
    "freq = sorted(freq.items(), key=lambda x: x[1], reverse=True)\n",
    "nodes=freq\n",
    "while len(nodes)>1:\n",
    "    (key1,c1)=nodes[-1]\n",
    "    (key2,c2)=nodes[-2]\n",
    "    nodes = nodes[:-2]\n",
    "    node = NodeTree (key1, key2)\n",
    "    nodes.append((node,c1 + c2))\n",
    "    nodes = sorted (nodes, key=lambda x: x[1], reverse=True)"
   ]
  },
  {
   "cell_type": "code",
   "execution_count": 9,
   "id": "8498c31c",
   "metadata": {},
   "outputs": [
    {
     "name": "stdout",
     "output_type": "stream",
     "text": [
      " Char | Huffman code \n",
      "----------------------\n",
      "' ' |         100\n",
      "'S' |         010\n",
      "'m' |        1011\n",
      "'a' |        1010\n",
      "'D' |        1101\n",
      "'e' |        1100\n",
      "'t' |        1111\n",
      "'o' |        0110\n",
      "'w' |       01111\n",
      "'i' |       01110\n",
      "'y' |        0001\n",
      "'A' |        0000\n",
      "'I' |        0011\n",
      "'p' |        0010\n",
      "'r' |       11101\n",
      "'n' |       11100\n"
     ]
    }
   ],
   "source": [
    "# Print the characters and its huffmancode\n",
    "huffmanCode = huffman_code_tree(nodes[0][0])\n",
    "\n",
    "print(' Char | Huffman code ')\n",
    "\n",
    "print('----------------------')\n",
    "for (char, frequency) in freq:\n",
    "    print('%-4r|%12s'%(char,huffmanCode[char]))\n"
   ]
  },
  {
   "cell_type": "code",
   "execution_count": null,
   "id": "1131cc2a-020c-4286-8c5f-b1ca3db81d23",
   "metadata": {},
   "outputs": [],
   "source": []
  }
 ],
 "metadata": {
  "kernelspec": {
   "display_name": "Python 3 (ipykernel)",
   "language": "python",
   "name": "python3"
  },
  "language_info": {
   "codemirror_mode": {
    "name": "ipython",
    "version": 3
   },
   "file_extension": ".py",
   "mimetype": "text/x-python",
   "name": "python",
   "nbconvert_exporter": "python",
   "pygments_lexer": "ipython3",
   "version": "3.11.5"
  }
 },
 "nbformat": 4,
 "nbformat_minor": 5
}
